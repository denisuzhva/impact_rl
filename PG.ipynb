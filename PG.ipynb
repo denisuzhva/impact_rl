{
 "cells": [
  {
   "cell_type": "code",
   "execution_count": 1,
   "metadata": {},
   "outputs": [],
   "source": [
    "from nets import q_nets\n",
    "from agents import q_agent\n",
    "from environments import q_playground"
   ]
  },
  {
   "cell_type": "code",
   "execution_count": 2,
   "metadata": {},
   "outputs": [],
   "source": [
    "batch_size = 32\n",
    "\n",
    "env = q_playground.ImageEnvV1(flatten=True)\n",
    "buffer = q_agent.ExperienceReplay(batch_size)\n",
    "agent = q_agent.Simple_Agent(env, buffer)"
   ]
  },
  {
   "cell_type": "code",
   "execution_count": 3,
   "metadata": {},
   "outputs": [],
   "source": [
    "env_state_size = env.state_size\n",
    "net_params = {\n",
    "    'in_size': env_state_size,\n",
    "    'n_features': [512],\n",
    "    'out_size': env_state_size,\n",
    "}"
   ]
  },
  {
   "cell_type": "code",
   "execution_count": 4,
   "metadata": {},
   "outputs": [],
   "source": [
    "net = q_nets.Simple_QL_FC(net_params)"
   ]
  },
  {
   "cell_type": "code",
   "execution_count": 5,
   "metadata": {},
   "outputs": [
    {
     "data": {
      "text/plain": [
       "Simple_QL_FC(\n",
       "  (net): Sequential(\n",
       "    (0): Linear(in_features=100, out_features=512, bias=True)\n",
       "    (1): ReLU(inplace=True)\n",
       "    (2): Linear(in_features=512, out_features=100, bias=True)\n",
       "  )\n",
       ")"
      ]
     },
     "execution_count": 5,
     "metadata": {},
     "output_type": "execute_result"
    }
   ],
   "source": [
    "import torch\n",
    "device = torch.device('cuda:0' if torch.cuda.is_available() else 'cpu')\n",
    "net.to(device)"
   ]
  },
  {
   "cell_type": "code",
   "execution_count": 6,
   "metadata": {},
   "outputs": [],
   "source": [
    "for i in range(batch_size):\n",
    "    agent.play_step(net, 0, device)"
   ]
  },
  {
   "cell_type": "code",
   "execution_count": 7,
   "metadata": {},
   "outputs": [
    {
     "name": "stdout",
     "output_type": "stream",
     "text": [
      "[15 15 15 15 15 15 15 15 15 15 15 15 15 15 15 15 15 15 15 15 15 15 15 15\n",
      " 15 15 15 15 15 15 15 15]\n"
     ]
    }
   ],
   "source": [
    "batch = buffer.sample(batch_size)\n",
    "states, actions, rewards, dones, next_states = batch\n",
    "print(actions)"
   ]
  },
  {
   "cell_type": "code",
   "execution_count": 8,
   "metadata": {},
   "outputs": [
    {
     "data": {
      "text/plain": [
       "<matplotlib.image.AxesImage at 0x208f458be50>"
      ]
     },
     "execution_count": 8,
     "metadata": {},
     "output_type": "execute_result"
    },
    {
     "data": {
      "image/png": "[encoded data removed]",
      "text/plain": [
       "<Figure size 640x480 with 1 Axes>"
      ]
     },
     "metadata": {},
     "output_type": "display_data"
    }
   ],
   "source": [
    "import matplotlib.pyplot as plt\n",
    "\n",
    "\n",
    "curr_state = env.get_img_state()\n",
    "plt.imshow(curr_state)"
   ]
  },
  {
   "cell_type": "code",
   "execution_count": 9,
   "metadata": {},
   "outputs": [
    {
     "name": "stdout",
     "output_type": "stream",
     "text": [
      "tensor([[0, 1, 1, 0, 1],\n",
      "        [0, 1, 1, 0, 1],\n",
      "        [0, 1, 1, 0, 1],\n",
      "        [0, 1, 1, 0, 1]])\n",
      "tensor([[10, 11, 12, 13, 14],\n",
      "        [10, 11, 12, 13, 14],\n",
      "        [10, 11, 12, 13, 14],\n",
      "        [10, 11, 12, 13, 14]])\n"
     ]
    }
   ],
   "source": [
    "s = -torch.tensor([[1, 0, 0, 1, 0]]).repeat(4, 1) + 1\n",
    "q = torch.arange(10, 15).repeat(4, 1)\n",
    "print(s)\n",
    "print(q)"
   ]
  },
  {
   "cell_type": "code",
   "execution_count": 10,
   "metadata": {},
   "outputs": [
    {
     "name": "stdout",
     "output_type": "stream",
     "text": [
      "tensor([[ 0, 11, 12,  0, 14],\n",
      "        [ 0, 11, 12,  0, 14],\n",
      "        [ 0, 11, 12,  0, 14],\n",
      "        [ 0, 11, 12,  0, 14]])\n"
     ]
    }
   ],
   "source": [
    "q_filtered = q * s\n",
    "print(q_filtered)"
   ]
  },
  {
   "cell_type": "code",
   "execution_count": 26,
   "metadata": {},
   "outputs": [
    {
     "name": "stdout",
     "output_type": "stream",
     "text": [
      "action  7\n",
      "vec tensor([ 0.9070, -1.4018, -0.6644,  0.6339,  0.4448,  0.1872,  0.1926,    -inf,\n",
      "        -1.2850, -1.5026])\n",
      "action  1\n",
      "vec tensor([ 0.9070,    -inf, -0.6644,  0.6339,  0.4448,  0.1872,  0.1926,    -inf,\n",
      "        -1.2850, -1.5026])\n",
      "action  8\n",
      "vec tensor([ 0.9070,    -inf, -0.6644,  0.6339,  0.4448,  0.1872,  0.1926,    -inf,\n",
      "           -inf, -1.5026])\n",
      "action  4\n",
      "vec tensor([ 0.9070,    -inf, -0.6644,  0.6339,    -inf,  0.1872,  0.1926,    -inf,\n",
      "           -inf, -1.5026])\n",
      "action  3\n",
      "vec tensor([ 0.9070,    -inf, -0.6644,    -inf,    -inf,  0.1872,  0.1926,    -inf,\n",
      "           -inf, -1.5026])\n",
      "action  9\n",
      "vec tensor([ 0.9070,    -inf, -0.6644,    -inf,    -inf,  0.1872,  0.1926,    -inf,\n",
      "           -inf,    -inf])\n",
      "action  0\n",
      "vec tensor([   -inf,    -inf, -0.6644,    -inf,    -inf,  0.1872,  0.1926,    -inf,\n",
      "           -inf,    -inf])\n",
      "action  2\n",
      "vec tensor([  -inf,   -inf,   -inf,   -inf,   -inf, 0.1872, 0.1926,   -inf,   -inf,\n",
      "          -inf])\n",
      "action  6\n",
      "vec tensor([  -inf,   -inf,   -inf,   -inf,   -inf, 0.1872,   -inf,   -inf,   -inf,\n",
      "          -inf])\n",
      "action  5\n",
      "vec tensor([-inf, -inf, -inf, -inf, -inf, -inf, -inf, -inf, -inf, -inf])\n"
     ]
    }
   ],
   "source": [
    "n_actions = 10\n",
    "r_vector = torch.randn(n_actions)\n",
    "action_space = q_playground.action_space(n_actions)\n",
    "action_space.reset()\n",
    "for i in range(n_actions):\n",
    "    #print(\"!!! sample #\", i)\n",
    "\n",
    "    a = action_space.sample()\n",
    "    r_vector[action_space.legal_action_mask == 0] = -float('inf')\n",
    "    print(\"action \", a)\n",
    "    print(\"vec\", r_vector)\n",
    "    #print(\"mask\", action_space.legal_action_mask)\n",
    "    #print(\"legal number\", action_space.n_legal_actions)"
   ]
  },
  {
   "cell_type": "code",
   "execution_count": null,
   "metadata": {},
   "outputs": [],
   "source": []
  }
 ],
 "metadata": {
  "kernelspec": {
   "display_name": "impact_rl23",
   "language": "python",
   "name": "python3"
  },
  "language_info": {
   "codemirror_mode": {
    "name": "ipython",
    "version": 3
   },
   "file_extension": ".py",
   "mimetype": "text/x-python",
   "name": "python",
   "nbconvert_exporter": "python",
   "pygments_lexer": "ipython3",
   "version": "3.9.16"
  },
  "orig_nbformat": 4,
  "vscode": {
   "interpreter": {
    "hash": "d9d12f9df56d8827a3fa1c5bccdf754b39f2509302d028e7e0310de521975e00"
   }
  }
 },
 "nbformat": 4,
 "nbformat_minor": 2
}
